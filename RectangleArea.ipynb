{
  "nbformat": 4,
  "nbformat_minor": 0,
  "metadata": {
    "colab": {
      "name": "RectangleArea",
      "provenance": [],
      "authorship_tag": "ABX9TyMWcGKaXF29XQlNWSbCVI6/",
      "include_colab_link": true
    },
    "kernelspec": {
      "name": "python3",
      "display_name": "Python 3"
    },
    "language_info": {
      "name": "python"
    }
  },
  "cells": [
    {
      "cell_type": "markdown",
      "metadata": {
        "id": "view-in-github",
        "colab_type": "text"
      },
      "source": [
        "<a href=\"https://colab.research.google.com/github/RajeshNaidu1/RectangleArea/blob/main/RectangleArea.ipynb\" target=\"_parent\"><img src=\"https://colab.research.google.com/assets/colab-badge.svg\" alt=\"Open In Colab\"/></a>"
      ]
    },
    {
      "cell_type": "code",
      "metadata": {
        "colab": {
          "base_uri": "https://localhost:8080/"
        },
        "id": "AaY5Ky-UC4Rq",
        "outputId": "275d0023-e1e8-4968-b0ec-753c7b64ac34"
      },
      "source": [
        "class rectangle():\n",
        "    def __init__(self,breadth,length):\n",
        "        self.breadth=breadth\n",
        "        self.length=length\n",
        "    def area(self):\n",
        "        return self.breadth*self.length\n",
        "a=int(input(\"Enter length of rectangle: \"))\n",
        "b=int(input(\"Enter breadth of rectangle: \"))\n",
        "obj=rectangle(a,b)\n",
        "print(\"Area of rectangle:\",obj.area())\n",
        " \n",
        "print()\n"
      ],
      "execution_count": 1,
      "outputs": [
        {
          "output_type": "stream",
          "text": [
            "Enter length of rectangle: 10\n",
            "Enter breadth of rectangle: 10\n",
            "Area of rectangle: 100\n",
            "\n"
          ],
          "name": "stdout"
        }
      ]
    }
  ]
}