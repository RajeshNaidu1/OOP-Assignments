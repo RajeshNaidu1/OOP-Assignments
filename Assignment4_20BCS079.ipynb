{
  "nbformat": 4,
  "nbformat_minor": 0,
  "metadata": {
    "colab": {
      "name": "Assignment4-20BCS079.ipynb",
      "provenance": [],
      "authorship_tag": "ABX9TyOTNNS2ahDA/ljm6ArcTcEL",
      "include_colab_link": true
    },
    "kernelspec": {
      "name": "python3",
      "display_name": "Python 3"
    },
    "language_info": {
      "name": "python"
    }
  },
  "cells": [
    {
      "cell_type": "markdown",
      "metadata": {
        "id": "view-in-github",
        "colab_type": "text"
      },
      "source": [
        "<a href=\"https://colab.research.google.com/github/RajeshNaidu1/PythonBasics/blob/main/Assignment4_20BCS079.ipynb\" target=\"_parent\"><img src=\"https://colab.research.google.com/assets/colab-badge.svg\" alt=\"Open In Colab\"/></a>"
      ]
    },
    {
      "cell_type": "code",
      "metadata": {
        "colab": {
          "base_uri": "https://localhost:8080/"
        },
        "id": "9E-LXrhbZHF1",
        "outputId": "8e00550b-1e5b-4c0b-9083-55903e072035"
      },
      "source": [
        "class Queue():\n",
        "    def __init__(self, size):\n",
        "        self.queue = []\n",
        "        self.size = size\n",
        "\n",
        "    def enqueue(self, item):\n",
        "       \n",
        "        if(self.isFull() != True):\n",
        "            self.queue.insert(0, item)\n",
        "        else:\n",
        "            print('Queue is Full!')\n",
        "\n",
        "    def dequeue(self):\n",
        "        \n",
        "        if(self.isEmpty() != True):\n",
        "            return self.queue.pop()\n",
        "        else:\n",
        "            print('Queue is Empty!')\n",
        "\n",
        "    def isEmpty(self):\n",
        "        \n",
        "        return self.queue == []\n",
        "\n",
        "    def isFull(self):\n",
        "        \n",
        "        return len(self.queue) == self.size\n",
        "\n",
        "    def peek(self):\n",
        "       \n",
        "        if(self.isEmpty() != True):\n",
        "            return self.queue[-1]\n",
        "        else:\n",
        "            print('Queue is Empty!')\n",
        "            \n",
        "\n",
        "if __name__ == '__main__':\n",
        "    myQueue = Queue(10)\n",
        "    myQueue.enqueue(4)\n",
        "    myQueue.enqueue(5)\n",
        "    myQueue.enqueue(6)\n",
        "    \n",
        "    print(myQueue)\n",
        "    \n",
        "    myQueue.enqueue(1)\n",
        "    myQueue.enqueue(2)\n",
        "    myQueue.enqueue(3)\n",
        "    \n",
        "    print(myQueue)\n",
        "    \n",
        "    myQueue.dequeue()\n",
        "    \n",
        "    print(myQueue)"
      ],
      "execution_count": 1,
      "outputs": [
        {
          "output_type": "stream",
          "name": "stdout",
          "text": [
            "<__main__.Queue object at 0x7f64b9b95e10>\n",
            "<__main__.Queue object at 0x7f64b9b95e10>\n",
            "<__main__.Queue object at 0x7f64b9b95e10>\n"
          ]
        }
      ]
    },
    {
      "cell_type": "code",
      "metadata": {
        "colab": {
          "base_uri": "https://localhost:8080/"
        },
        "id": "rEY3aBt9ZiYk",
        "outputId": "0fe9025b-98b9-40fa-8794-211fa9e588a0"
      },
      "source": [
        "class Rectangle():\n",
        "    def __init__(self, l, b):\n",
        "        self.length = l\n",
        "        self.breadth  = b\n",
        "\n",
        "    def rectangle_area(self):\n",
        "        return self.length*self.breadth\n",
        "\n",
        "newRectangle = Rectangle(3, 4)\n",
        "print(newRectangle.rectangle_area())"
      ],
      "execution_count": 3,
      "outputs": [
        {
          "output_type": "stream",
          "name": "stdout",
          "text": [
            "12\n"
          ]
        }
      ]
    },
    {
      "cell_type": "code",
      "metadata": {
        "colab": {
          "base_uri": "https://localhost:8080/"
        },
        "id": "QrSyZdtVaclk",
        "outputId": "78f263c7-f614-4cf4-ca0d-d2c22a51d0ab"
      },
      "source": [
        "class Node:\n",
        "     \n",
        "    def __init__(self,data):\n",
        "        self.data = data\n",
        "        self.next = None\n",
        "     \n",
        "class Stack:\n",
        "     \n",
        "    def __init__(self):\n",
        "        self.head = None\n",
        "     \n",
        "    def isempty(self):\n",
        "        if self.head == None:\n",
        "            return True\n",
        "        else:\n",
        "            return False\n",
        "     \n",
        "    def push(self,data):\n",
        "         \n",
        "        if self.head == None:\n",
        "            self.head=Node(data)\n",
        "             \n",
        "        else:\n",
        "            newnode = Node(data)\n",
        "            newnode.next = self.head\n",
        "            self.head = newnode\n",
        "     \n",
        "    def pop(self):\n",
        "         \n",
        "        if self.isempty():\n",
        "            return None\n",
        "             \n",
        "        else:\n",
        "           \n",
        "            poppednode = self.head\n",
        "            self.head = self.head.next\n",
        "            poppednode.next = None\n",
        "            return poppednode.data\n",
        "     \n",
        "    def peek(self):\n",
        "         \n",
        "        if self.isempty():\n",
        "            return None\n",
        "             \n",
        "        else:\n",
        "            return self.head.data\n",
        "     \n",
        "    def display(self):\n",
        "         \n",
        "        iternode = self.head\n",
        "        if self.isempty():\n",
        "            print(\"Stack Underflow\")\n",
        "         \n",
        "        else:\n",
        "             \n",
        "            while(iternode != None):\n",
        "                 \n",
        "                print(iternode.data,\"->\",end = \" \")\n",
        "                iternode = iternode.next\n",
        "            return\n",
        "         \n",
        "MyStack = Stack()\n",
        "MyStack.push(1)\n",
        "MyStack.push(2)\n",
        "MyStack.push(3)\n",
        "MyStack.push(4)\n",
        "MyStack.display()\n",
        "print(\"\\nTop element is \",MyStack.peek())\n",
        "MyStack.pop()\n",
        "MyStack.pop()\n",
        "MyStack.display()\n",
        "print(\"\\nTop element is \", MyStack.peek())"
      ],
      "execution_count": 4,
      "outputs": [
        {
          "output_type": "stream",
          "name": "stdout",
          "text": [
            "4 -> 3 -> 2 -> 1 -> \n",
            "Top element is  4\n",
            "2 -> 1 -> \n",
            "Top element is  2\n"
          ]
        }
      ]
    }
  ]
}