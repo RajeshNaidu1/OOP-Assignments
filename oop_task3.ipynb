{
  "nbformat": 4,
  "nbformat_minor": 0,
  "metadata": {
    "colab": {
      "name": "oop-task3.ipynb",
      "provenance": [],
      "authorship_tag": "ABX9TyOCqpUkxPLngrCRpiozh9RW",
      "include_colab_link": true
    },
    "kernelspec": {
      "name": "python3",
      "display_name": "Python 3"
    },
    "language_info": {
      "name": "python"
    }
  },
  "cells": [
    {
      "cell_type": "markdown",
      "metadata": {
        "id": "view-in-github",
        "colab_type": "text"
      },
      "source": [
        "<a href=\"https://colab.research.google.com/github/RajeshNaidu1/PythonBasics/blob/main/oop_task3.ipynb\" target=\"_parent\"><img src=\"https://colab.research.google.com/assets/colab-badge.svg\" alt=\"Open In Colab\"/></a>"
      ]
    },
    {
      "cell_type": "code",
      "metadata": {
        "colab": {
          "base_uri": "https://localhost:8080/"
        },
        "id": "RWYlK3wLMOGa",
        "outputId": "97e81589-329b-4e27-a271-be529a924c15"
      },
      "source": [
        "class Student:\n",
        "  def info(self):\n",
        "    self.name = str(input('Name: '))\n",
        "    self.reg_no = int(input('Reg no: '))\n",
        "    self.age = int(input('age: '))\n",
        "    self.gender = str(input('gender: '))\n",
        "    self.branch = str(input('branch: '))\n",
        "    self.sem = int(input('sem: '))\n",
        "class StudentResultInfo(Student):\n",
        "  def Result(self):\n",
        "    self.total_marks = int(input('total marks: '))\n",
        "    self.percentage = int(input('percentage: '))\n",
        "    self.grade = str(input('grade: '))\n",
        "  def DisplayInfo(self):\n",
        "    print(\"*******************\")\n",
        "    print(\"Details are\")\n",
        "    print('Name: ',self.name)\n",
        "    print('reg no: ',self.reg_no)\n",
        "    print('age: ',self.age)\n",
        "    print('gender: ',self.gender)\n",
        "    print('branch: ',self.branch)\n",
        "    print('sem: ',self.sem)\n",
        "  def DisplayResult(self):\n",
        "    print('Total Marks: ',self.total_marks)\n",
        "    print('percentage: ',self.percentage)\n",
        "    print('grade: ',self.grade) \n",
        "    print(\"*******************\")       \n",
        "    \n",
        "S1 = StudentResultInfo()\n",
        "S1.info() \n",
        "S1.Result() \n",
        "S1.DisplayInfo()\n",
        "S1.DisplayResult()"
      ],
      "execution_count": 6,
      "outputs": [
        {
          "output_type": "stream",
          "name": "stdout",
          "text": [
            "Name: Rajesh\n",
            "Reg no: 79\n",
            "age: 18\n",
            "gender: M\n",
            "branch: CSE\n",
            "sem: 3\n",
            "total marks: 80\n",
            "percentage: 80\n",
            "grade: B\n",
            "*******************\n",
            "Details are\n",
            "Name:  Rajesh\n",
            "reg no:  79\n",
            "age:  18\n",
            "gender:  M\n",
            "branch:  CSE\n",
            "sem:  3\n",
            "Total Marks:  80\n",
            "percentage:  80\n",
            "grade:  B\n",
            "*******************\n"
          ]
        }
      ]
    },
    {
      "cell_type": "code",
      "metadata": {
        "colab": {
          "base_uri": "https://localhost:8080/"
        },
        "id": "v15jn-AJM4Fn",
        "outputId": "d6330b21-9e8d-4779-8971-b014707e49ab"
      },
      "source": [
        "class PDF():\n",
        "  def info(self):\n",
        "    self.creator = str(input('Creator: '))\n",
        "    self.description = str(input('description: '))\n",
        "    self.filesize = int(input('size: '))\n",
        "  def Checksize(self):\n",
        "    if self.filesize > 100:\n",
        "      print('size is exceeding limit')\n",
        "    else:\n",
        "      print('size is ok')\n",
        "  def Display(self):\n",
        "    print('creator: ',self.creator)\n",
        "    print('description: ',self.description)\n",
        "    print('filesize: ',self.filesize)\n",
        "\n",
        "class Pictures(PDF):\n",
        "  def info(self):\n",
        "    self.creator = str(input('Creator: '))\n",
        "    self.description = str(input('description: '))\n",
        "    self.filesize = int(input('size: '))\n",
        "    self.length = int(input('length: '))\n",
        "    self.breadth = int(input('breadth: '))\n",
        "  \n",
        "  def Display(self):\n",
        "    print('creator: ',self.creator)\n",
        "    print('description: ',self.description)\n",
        "    print('filesize: ',self.filesize)\n",
        "    print('length: ',self.length)\n",
        "    print('breadth: ',self.breadth)\n",
        "    \n",
        "  def Checkdimensions(self):\n",
        "    if 0 < self.length < 30:\n",
        "      print('length is ok')\n",
        "    else:\n",
        "      print('length is exceeding limit.')\n",
        "    if 0 < self.breadth < 30:\n",
        "      print('breadth is ok')\n",
        "    else:\n",
        "      print('breadth is exceeding limit')      \n",
        "F1 = PDF()\n",
        "F1.info()\n",
        "F1.Checksize()\n",
        "F1.Display()\n",
        "F2 = Pictures()\n",
        "F2.info()\n",
        "F2.Checksize()\n",
        "F2.Checkdimensions()\n",
        "F2.Display()"
      ],
      "execution_count": 1,
      "outputs": [
        {
          "output_type": "stream",
          "name": "stdout",
          "text": [
            "Creator: rajesh\n",
            "description: 100\n",
            "size: 200\n",
            "size is exceeding limit\n",
            "creator:  rajesh\n",
            "description:  100\n",
            "filesize:  200\n",
            "Creator: naidu\n",
            "description: 300\n",
            "size: 15\n",
            "length: 15\n",
            "breadth: 15\n",
            "size is ok\n",
            "length is ok\n",
            "breadth is ok\n",
            "creator:  naidu\n",
            "description:  300\n",
            "filesize:  15\n",
            "length:  15\n",
            "breadth:  15\n"
          ]
        }
      ]
    },
    {
      "cell_type": "code",
      "metadata": {
        "colab": {
          "base_uri": "https://localhost:8080/"
        },
        "id": "WZiDxNTlQY4J",
        "outputId": "c3948378-de5a-4750-8257-5faa26fd84ab"
      },
      "source": [
        "class Vehicle():\n",
        "  def info(self):\n",
        "    self.name = str(input('name: '))\n",
        "    self.mileage = int(input('mileage: '))\n",
        "    self.capacity = int(input('capacity: '))\n",
        "  def busfare(self):\n",
        "    self.fare = self.capacity * 100\n",
        "    return self.fare\n",
        "  def amount(self):\n",
        "    self.amount = self.fare\n",
        "    return self.amount  \n",
        "class Bus(Vehicle):\n",
        "  def info(self):\n",
        "    self.name = \"Bus\"\n",
        "    self.mileage = int(input('mileage: '))\n",
        "    self.capacity = 50\n",
        "  def amount(self):\n",
        "    self.amount = self.fare + ( (0.1) * self.fare )  \n",
        "    return self.amount\n",
        "V1 = Bus()\n",
        "V1.info()\n",
        "print(V1.busfare())\n",
        "print(V1.amount())\n",
        "V2 = Vehicle()\n",
        "V2.info()\n",
        "print(V2.busfare())\n",
        "print(V2.amount())"
      ],
      "execution_count": 7,
      "outputs": [
        {
          "output_type": "stream",
          "name": "stdout",
          "text": [
            "mileage: 400\n",
            "5000\n",
            "5500.0\n",
            "name: Rajesh\n",
            "mileage: 200\n",
            "capacity: 50\n",
            "5000\n",
            "5000\n"
          ]
        }
      ]
    }
  ]
}