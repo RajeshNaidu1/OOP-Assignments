{
  "nbformat": 4,
  "nbformat_minor": 0,
  "metadata": {
    "colab": {
      "name": "hobbybytesQuiz.ipynb",
      "provenance": [],
      "collapsed_sections": [],
      "authorship_tag": "ABX9TyMrW6DPtOBEYOX3I2z0dJh3",
      "include_colab_link": true
    },
    "kernelspec": {
      "name": "python3",
      "display_name": "Python 3"
    },
    "language_info": {
      "name": "python"
    }
  },
  "cells": [
    {
      "cell_type": "markdown",
      "metadata": {
        "id": "view-in-github",
        "colab_type": "text"
      },
      "source": [
        "<a href=\"https://colab.research.google.com/github/RajeshNaidu1/PythonBasics/blob/main/hobbybytesQuiz.ipynb\" target=\"_parent\"><img src=\"https://colab.research.google.com/assets/colab-badge.svg\" alt=\"Open In Colab\"/></a>"
      ]
    },
    {
      "cell_type": "code",
      "metadata": {
        "colab": {
          "base_uri": "https://localhost:8080/"
        },
        "id": "8AmOSPjbfBzH",
        "outputId": "0bce964b-8557-49ed-b209-adebc76dcd12"
      },
      "source": [
        "# Return max number\n",
        "a= int(input(\"Enter the number a: \"))\n",
        "b= int(input(\"Enter the number b: \"))\n",
        "if a>b:\n",
        "  print(str(a) + \" is Max Number\")\n",
        "else:\n",
        "  print(str(b) + \" is Max Number\")"
      ],
      "execution_count": null,
      "outputs": [
        {
          "output_type": "stream",
          "text": [
            "Enter the number a: 10\n",
            "Enter the number b: 4\n",
            "10 is Max Number\n"
          ],
          "name": "stdout"
        }
      ]
    },
    {
      "cell_type": "code",
      "metadata": {
        "colab": {
          "base_uri": "https://localhost:8080/"
        },
        "id": "hX2Kb8g9f8ZX",
        "outputId": "2361357e-4d60-4818-e8d2-51bf254fe252"
      },
      "source": [
        "# Number game using divisiblty check with 3 and 5\n",
        "for i in range(3):\n",
        "  a= int(input(\"Enter the Number: \"))\n",
        "  if (a%3==0) & (a%5!=0):\n",
        "    print(\"Number\")\n",
        "  elif (a%5==0) & (a%3!=0):\n",
        "    print(\"Game\")\n",
        "  elif (a%3==0) & (a%5==0):\n",
        "    print(\"NumberGame\")\n",
        "  else:\n",
        "    print(a)\n",
        "   \n"
      ],
      "execution_count": 3,
      "outputs": [
        {
          "output_type": "stream",
          "text": [
            "Enter the Number: 33\n",
            "Number\n",
            "Enter the Number: 40\n",
            "Game\n",
            "Enter the Number: 45\n",
            "NumberGame\n"
          ],
          "name": "stdout"
        }
      ]
    },
    {
      "cell_type": "code",
      "metadata": {
        "colab": {
          "base_uri": "https://localhost:8080/"
        },
        "id": "gOQHF5apN9f9",
        "outputId": "d50c8c9a-c0ae-4df7-a5e2-cec0907ba232"
      },
      "source": [
        "# Speed check\n",
        "def check(speed):\n",
        "  if speed<70:\n",
        "    print(\"OK\")\n",
        "  else:\n",
        "    points=(speed-70)//5\n",
        "    if points<=12:\n",
        "      print(\"Lincense is safe\")\n",
        "    else:\n",
        "      print(\"Lincense Cancelled\")\n",
        "speed = int(input('Enter the speed: '))"
      ],
      "execution_count": 11,
      "outputs": [
        {
          "output_type": "stream",
          "text": [
            "Enter the speed: 80\n"
          ],
          "name": "stdout"
        }
      ]
    },
    {
      "cell_type": "code",
      "metadata": {
        "id": "dioHeXsughq5",
        "colab": {
          "base_uri": "https://localhost:8080/"
        },
        "outputId": "67dfe401-31c1-4b1e-fe25-ad031078b949"
      },
      "source": [
        "# Printing patterns\n",
        "def showSign(rows):\n",
        "  for i in range(0,rows):\n",
        "    for j in  range(0,i+1):\n",
        "      print(\"& \",end=\" \")\n",
        "    print(\"\\r\")\n",
        "rows= int(input(\"Enter the rows: \"))\n",
        "showSign(rows)"
      ],
      "execution_count": 18,
      "outputs": [
        {
          "output_type": "stream",
          "text": [
            "Enter the rows: 5\n",
            "&  \n",
            "&  &  \n",
            "&  &  &  \n",
            "&  &  &  &  \n",
            "&  &  &  &  &  \n"
          ],
          "name": "stdout"
        }
      ]
    },
    {
      "cell_type": "code",
      "metadata": {
        "colab": {
          "base_uri": "https://localhost:8080/"
        },
        "id": "v6ppNCzAbvir",
        "outputId": "cfafcb0e-7dcb-46f4-8184-b83f9df55a32"
      },
      "source": [
        "# Even and Odd\n",
        "def showNumbers(limit):\n",
        "  for i in range(0,limit):\n",
        "    if i%2==0:\n",
        "      even=f'{i} EVEN'\n",
        "      print(even)\n",
        "    else:\n",
        "      odd=f'{i} ODD'\n",
        "      print(odd)\n",
        "print(showNumbers(5))"
      ],
      "execution_count": 23,
      "outputs": [
        {
          "output_type": "stream",
          "text": [
            "0 EVEN\n",
            "1 ODD\n",
            "2 EVEN\n",
            "3 ODD\n",
            "4 EVEN\n",
            "None\n"
          ],
          "name": "stdout"
        }
      ]
    }
  ]
}