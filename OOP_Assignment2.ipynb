{
  "nbformat": 4,
  "nbformat_minor": 0,
  "metadata": {
    "colab": {
      "name": "OOP-Assignment2.ipynb",
      "provenance": [],
      "collapsed_sections": [],
      "authorship_tag": "ABX9TyO2ny6HsUOULvVlRU8lQK+a",
      "include_colab_link": true
    },
    "kernelspec": {
      "name": "python3",
      "display_name": "Python 3"
    },
    "language_info": {
      "name": "python"
    }
  },
  "cells": [
    {
      "cell_type": "markdown",
      "metadata": {
        "id": "view-in-github",
        "colab_type": "text"
      },
      "source": [
        "<a href=\"https://colab.research.google.com/github/RajeshNaidu1/PythonBasics/blob/main/OOP_Assignment2.ipynb\" target=\"_parent\"><img src=\"https://colab.research.google.com/assets/colab-badge.svg\" alt=\"Open In Colab\"/></a>"
      ]
    },
    {
      "cell_type": "code",
      "metadata": {
        "colab": {
          "base_uri": "https://localhost:8080/"
        },
        "id": "PdgkZo_zFrCn",
        "outputId": "aab2924c-86c7-46c2-b127-38400f75a7a7"
      },
      "source": [
        "# problem 1\n",
        "class Circle:\n",
        "  def __init__(self,radius):\n",
        "    self.radius=radius\n",
        "  def perimeter(self):\n",
        "    print(\"Perimeter is: \",6.28*(self.radius))\n",
        "  def area(self):\n",
        "    print(\"Area is: \",3.14*(self.radius)*(self.radius))\n",
        "radius= Circle(5)\n",
        "Circle.perimeter(radius)\n",
        "Circle.area(radius)"
      ],
      "execution_count": null,
      "outputs": [
        {
          "output_type": "stream",
          "name": "stdout",
          "text": [
            "Perimeter is:  31.400000000000002\n",
            "Area is:  78.5\n"
          ]
        }
      ]
    },
    {
      "cell_type": "code",
      "metadata": {
        "id": "do5V6Fw8HqyP",
        "colab": {
          "base_uri": "https://localhost:8080/"
        },
        "outputId": "05a852dd-98ea-4ffa-fbd6-9afdb9207c81"
      },
      "source": [
        "# problem 2\n",
        "class Faculty:\n",
        "  def Data(self,name,ID,branch,salary):\n",
        "    self.name = name\n",
        "    self.ID = ID\n",
        "    self.branch = branch\n",
        "    self.salary = salary\n",
        "  def Display(self):\n",
        "    print('Name: ',self.name)\n",
        "    print('ID: ',self.ID)\n",
        "    print('Branch: ',self.branch)\n",
        "    print('Salary: ',self.salary)  \n",
        "\n",
        "\n",
        "\n",
        "f1 = Faculty()\n",
        "f2 = Faculty()\n",
        "f3 = Faculty()\n",
        "f4 = Faculty()\n",
        "f5 = Faculty()\n",
        "\n",
        "name = str(input('Enter name'))\n",
        "ID = int(input('ID:'))\n",
        "branch = str(input('Branch:'))\n",
        "salary = int(input('Salary'))\n",
        "f1.Data(name,ID,branch,salary)\n",
        "\n",
        "name = str(input('Enter name'))\n",
        "ID = int(input('ID:'))\n",
        "branch = str(input('Branch:'))\n",
        "salary = int(input('Salary:'))  \n",
        "f2.Data(name,ID,branch,salary)\n",
        "\n",
        "name = str(input('Enter name'))\n",
        "ID = int(input('ID:'))\n",
        "branch = str(input('Branch:'))\n",
        "salary = int(input('Salary:'))  \n",
        "f3.Data(name,ID,branch,salary)\n",
        "name = str(input('Enter name'))\n",
        "ID = int(input('ID:'))\n",
        "branch = str(input('Branch:'))\n",
        "salary = int(input('Salary:'))  \n",
        "f4.Data(name,ID,branch,salary)\n",
        "name = str(input('Enter name'))\n",
        "ID = int(input('ID:'))\n",
        "branch = str(input('Branch:'))\n",
        "salary = int(input('Salary:'))  \n",
        "f5.Data(name,ID,branch,salary)\n",
        "\n",
        "f1.Display()\n",
        "f2.Display()\n",
        "f3.Display()\n",
        "f4.Display()\n",
        "f5.Display()"
      ],
      "execution_count": 2,
      "outputs": [
        {
          "output_type": "stream",
          "name": "stdout",
          "text": [
            "Enter nameMaddila\n",
            "ID:1\n",
            "Branch:CSE\n",
            "Salary100000\n",
            "Enter nameRajesh\n",
            "ID:2\n",
            "Branch:CSE\n",
            "Salary:100000\n",
            "Enter nameNaidu\n",
            "ID:3\n",
            "Branch:CSE\n",
            "Salary:100000\n",
            "Enter nameViraj\n",
            "ID:4\n",
            "Branch:CSE\n",
            "Salary:100000\n",
            "Enter nameAnand\n",
            "ID:5\n",
            "Branch:CSE\n",
            "Salary:100000\n",
            "Name:  Maddila\n",
            "ID:  1\n",
            "Branch:  CSE\n",
            "Salary:  100000\n",
            "Name:  Rajesh\n",
            "ID:  2\n",
            "Branch:  CSE\n",
            "Salary:  100000\n",
            "Name:  Naidu\n",
            "ID:  3\n",
            "Branch:  CSE\n",
            "Salary:  100000\n",
            "Name:  Viraj\n",
            "ID:  4\n",
            "Branch:  CSE\n",
            "Salary:  100000\n",
            "Name:  Anand\n",
            "ID:  5\n",
            "Branch:  CSE\n",
            "Salary:  100000\n"
          ]
        }
      ]
    },
    {
      "cell_type": "code",
      "metadata": {
        "colab": {
          "base_uri": "https://localhost:8080/"
        },
        "id": "6_pIr9V2LIsO",
        "outputId": "dfd764de-ac36-4dff-92ed-014ee352df8e"
      },
      "source": [
        "# problem 3\n",
        "class account:\n",
        "  def __init__(self,AccountNumber,Name,Amount):\n",
        "    self.number = AccountNumber\n",
        "    self.name = Name\n",
        "    self.amount = Amount\n",
        "  def Deposit(self,Amount):\n",
        "    self.amount += Amount\n",
        "  def Withdraw(self,Amount):\n",
        "    if Amount > self.amount:\n",
        "      print(\"Insufficient balance\")\n",
        "      exit\n",
        "    else:\n",
        "      self.amount -= Amount\n",
        "  def Checkbalance(self):\n",
        "    print(self.amount)\n",
        "  def Accountdetails(self):\n",
        "    print(\"Account details are:\")\n",
        "    print(self.number,self.name,self.amount)\n",
        "  \n",
        "details = account(\"12345\",\"Rajesh\",1000)\n",
        "details.Deposit(1000)\n",
        "details.Withdraw(200)\n",
        "details.Checkbalance()\n",
        "details.Accountdetails()"
      ],
      "execution_count": null,
      "outputs": [
        {
          "output_type": "stream",
          "name": "stdout",
          "text": [
            "1800\n",
            "Account details are:\n",
            "12345 Rajesh 1800\n"
          ]
        }
      ]
    },
    {
      "cell_type": "code",
      "metadata": {
        "colab": {
          "base_uri": "https://localhost:8080/"
        },
        "id": "9BKAnAT8P0Ib",
        "outputId": "669e4f02-8db7-4772-af2a-b252e105697a"
      },
      "source": [
        "# problem 4\n",
        "class students:\n",
        "    def __init__(self):\n",
        "        self.name = 'Rajesh'\n",
        "        self.marks = []\n",
        "        \n",
        "    def enterMarks(self):\n",
        "        for i in range(3):\n",
        "            m = int(input(\"Enter the marks in subject %d: \"%(i+1)))\n",
        "            self.marks.append(m)\n",
        "            \n",
        "    def display(self):\n",
        "        print (\"Marks:\", self.marks)\n",
        "\n",
        "s1 = students()\n",
        "s1.enterMarks()\n",
        "s1.display()\n"
      ],
      "execution_count": null,
      "outputs": [
        {
          "output_type": "stream",
          "name": "stdout",
          "text": [
            "Enter the marks in subject 1: 100\n",
            "Enter the marks in subject 2: 100\n",
            "Enter the marks in subject 3: 100\n",
            "Marks: [100, 100, 100]\n"
          ]
        }
      ]
    },
    {
      "cell_type": "code",
      "metadata": {
        "id": "36GomhfXIUZg",
        "colab": {
          "base_uri": "https://localhost:8080/"
        },
        "outputId": "774b5017-52db-4558-caca-1d1a5bbb380f"
      },
      "source": [
        "# problem 6\n",
        "class time():\n",
        "  def __init__(self,hour,minutes,seconds):\n",
        "    self.hour=hour\n",
        "    self.minutes=minutes\n",
        "    self.seconds=seconds\n",
        "  def display(self):\n",
        "    print(self.hour,\":\",self.minutes,\":\",self.seconds)\n",
        "time1= time(12,30,41)\n",
        "time1.display()"
      ],
      "execution_count": 3,
      "outputs": [
        {
          "output_type": "stream",
          "name": "stdout",
          "text": [
            "12 : 30 : 41\n"
          ]
        }
      ]
    },
    {
      "cell_type": "code",
      "metadata": {
        "colab": {
          "base_uri": "https://localhost:8080/"
        },
        "id": "ggozdfzdJnZ9",
        "outputId": "0f826051-7abe-4605-aa1b-caff3fc4eea3"
      },
      "source": [
        "# problem 7\n",
        "class Student:\n",
        "  def __init__(self,name,age,roll):\n",
        "    self.name = name\n",
        "    self.age = age\n",
        "    self.roll = roll\n",
        "\n",
        "stud1 = Student(\"Rahul\",21,33)\n",
        "stud2 = Student(\"Rohit\",22,74)\n",
        "if S1.age == S2.age:\n",
        "  print('Equal')\n",
        "else:\n",
        "  print('Not Equal')"
      ],
      "execution_count": null,
      "outputs": [
        {
          "output_type": "stream",
          "name": "stdout",
          "text": [
            "not equal\n"
          ]
        }
      ]
    },
    {
      "cell_type": "code",
      "metadata": {
        "colab": {
          "base_uri": "https://localhost:8080/"
        },
        "id": "FR-exYUdPmO-",
        "outputId": "d10d20c5-78ee-48b3-df58-d93ee74c06e9"
      },
      "source": [
        "# problem 8\n",
        "class Student:\n",
        "  print('sem:')\n",
        "  sem = int(input())\n",
        "  print('institute:')\n",
        "  institute = str(input())\n",
        "  def _init_(self,name,usn):\n",
        "    self.name = name\n",
        "    self.usn = usn\n",
        " \n",
        "  def stddetails(self):\n",
        "    print('name: ',self.name) \n",
        "    print('usn: ',self.usn)\n",
        "  @classmethod   \n",
        "  def clsdisplay(Student):\n",
        "    print('Sem: ',Student.sem)\n",
        "    print('Institute: ',Student.institute) \n",
        "  @staticmethod\n",
        "  def static():\n",
        "    print('this class stores and prints the details of the student and institute')"
      ],
      "execution_count": 4,
      "outputs": [
        {
          "name": "stdout",
          "output_type": "stream",
          "text": [
            "sem:\n",
            "3\n",
            "institute:\n",
            "IIIT\n"
          ]
        }
      ]
    },
    {
      "cell_type": "code",
      "metadata": {
        "colab": {
          "base_uri": "https://localhost:8080/"
        },
        "id": "nybRUyCfKd68",
        "outputId": "27b1bc31-b909-4fa5-bb63-7e7da2405419"
      },
      "source": [
        "# problem 9\n",
        "class student:\n",
        "  def __init__(self,name,roll,sem):\n",
        "    self.name=name\n",
        "    self.roll=roll\n",
        "    self.sem=sem\n",
        "    self.lap=self.laptop()\n",
        "\n",
        "  def show(self):\n",
        "    print(self.name,self.roll,self.sem)\n",
        "    self.lap.show()\n",
        "\n",
        "  class laptop:\n",
        "    def __init__(self):\n",
        "      self.brand='DELL'\n",
        "      self.cpu='i5'\n",
        "      self.ram=8\n",
        "\n",
        "    def show(self):\n",
        "      print(self.brand,self.cpu,self.ram)\n",
        "\n",
        "stud1=student('Rajesh',79,3)\n",
        "\n",
        "stud1.show()"
      ],
      "execution_count": null,
      "outputs": [
        {
          "output_type": "stream",
          "name": "stdout",
          "text": [
            "Rajesh 79 3\n",
            "DELL i5 8\n"
          ]
        }
      ]
    }
  ]
}