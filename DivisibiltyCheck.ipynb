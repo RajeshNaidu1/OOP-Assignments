{
  "nbformat": 4,
  "nbformat_minor": 0,
  "metadata": {
    "colab": {
      "name": "DivisibiltyCheck",
      "provenance": [],
      "authorship_tag": "ABX9TyPdGAmaq2PKXijsTPWG3cWo",
      "include_colab_link": true
    },
    "kernelspec": {
      "name": "python3",
      "display_name": "Python 3"
    },
    "language_info": {
      "name": "python"
    }
  },
  "cells": [
    {
      "cell_type": "markdown",
      "metadata": {
        "id": "view-in-github",
        "colab_type": "text"
      },
      "source": [
        "<a href=\"https://colab.research.google.com/github/RajeshNaidu1/RectangleArea/blob/main/DivisibiltyCheck.ipynb\" target=\"_parent\"><img src=\"https://colab.research.google.com/assets/colab-badge.svg\" alt=\"Open In Colab\"/></a>"
      ]
    },
    {
      "cell_type": "code",
      "metadata": {
        "colab": {
          "base_uri": "https://localhost:8080/"
        },
        "id": "p9mhrMhZN9L-",
        "outputId": "6036a601-1f08-41d8-a1bf-7d0556887e4c"
      },
      "source": [
        "a= int(input(\"Enter 'a' value: \"))\n",
        "b= int(input(\"Enter 'b' value: \"))\n",
        "if a%b==0:\n",
        "  print(\"a is divisible by b\")\n",
        "elif b%a==0:\n",
        "  print(\"b is divisible by a\")\n",
        "else:\n",
        "  print(\"Get out\")"
      ],
      "execution_count": 4,
      "outputs": [
        {
          "output_type": "stream",
          "text": [
            "Enter 'a' value: 9\n",
            "Enter 'b' value: 2\n",
            "Get out\n"
          ],
          "name": "stdout"
        }
      ]
    }
  ]
}