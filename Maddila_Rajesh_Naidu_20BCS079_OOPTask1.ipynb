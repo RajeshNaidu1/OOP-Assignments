{
  "nbformat": 4,
  "nbformat_minor": 0,
  "metadata": {
    "colab": {
      "name": "Maddila Rajesh Naidu_20BCS079_OOPTask1.ipynb",
      "provenance": [],
      "authorship_tag": "ABX9TyOGBtThjRAmWGLad1eN3/X0",
      "include_colab_link": true
    },
    "kernelspec": {
      "name": "python3",
      "display_name": "Python 3"
    },
    "language_info": {
      "name": "python"
    }
  },
  "cells": [
    {
      "cell_type": "markdown",
      "metadata": {
        "id": "view-in-github",
        "colab_type": "text"
      },
      "source": [
        "<a href=\"https://colab.research.google.com/github/RajeshNaidu1/PythonBasics/blob/main/Maddila_Rajesh_Naidu_20BCS079_OOPTask1.ipynb\" target=\"_parent\"><img src=\"https://colab.research.google.com/assets/colab-badge.svg\" alt=\"Open In Colab\"/></a>"
      ]
    },
    {
      "cell_type": "code",
      "metadata": {
        "colab": {
          "base_uri": "https://localhost:8080/"
        },
        "id": "hrCqVyAt5mFH",
        "outputId": "c7724236-625e-4c02-b282-6b655e77be6e"
      },
      "source": [
        "# Problem II\n",
        "while(i<5):\n",
        "  n= int(input(\"Enter the Number: \"))\n",
        "  i=i+1\n",
        "\n",
        "  if(n%2!=0):\n",
        "    print(\"Weird\")\n",
        "  elif(1<n<6 and n%2==0):\n",
        "    print(\"Not Weird\")\n",
        "  elif(5<n<21 and n%2==0):\n",
        "    print(\"Weird\")\n",
        "  else:\n",
        "    print(\"Not Weird\")"
      ],
      "execution_count": null,
      "outputs": [
        {
          "output_type": "stream",
          "name": "stdout",
          "text": [
            "Enter the Number: 4\n",
            "Not Weird\n",
            "Enter the Number: 1\n",
            "Weird\n",
            "Enter the Number: 6\n",
            "Weird\n",
            "Enter the Number: 20\n",
            "Weird\n",
            "Enter the Number: 45\n",
            "Weird\n"
          ]
        }
      ]
    },
    {
      "cell_type": "code",
      "metadata": {
        "colab": {
          "base_uri": "https://localhost:8080/"
        },
        "id": "3nXEbgPdpQGb",
        "outputId": "9909528f-9a52-4803-91ef-24931f26b666"
      },
      "source": [
        "# Problem III\n",
        "Arrivals = ['Hardik', 'Rahul', 'Virat', 'Rishabh', 'Mahi', 'Rohit', 'Rahane']\n",
        "def LateArrivals(List , Name) :\n",
        "  count= len(List) \n",
        "  Half_of_Guest = (count// 2) + ( 0 if count % 2 == 0 else 1)\n",
        "  position = List.index(Name) + 1\n",
        "  if position > Half_of_Guest and position < count :\n",
        "    print(Name, \" is Fashionably Late.\")\n",
        "  else :\n",
        "    print(Name , \" is Not Fashionably Late.\")\n",
        "LateArrivals(Arrivals , 'Mahi')"
      ],
      "execution_count": 5,
      "outputs": [
        {
          "output_type": "stream",
          "name": "stdout",
          "text": [
            "Mahi  is Fashionably Late .\n"
          ]
        }
      ]
    },
    {
      "cell_type": "code",
      "metadata": {
        "colab": {
          "base_uri": "https://localhost:8080/"
        },
        "id": "olxGcRqO60_a",
        "outputId": "080a36a5-2398-42bb-c744-0c9f565f0610"
      },
      "source": [
        "# Problem V\n",
        "BP= int(input(\"Enter the the BP of the employee: \"))\n",
        "DA= (BP*40)/100\n",
        "HRA= (BP*20)/100\n",
        "GP= BP+DA+HRA\n",
        "print(GP)"
      ],
      "execution_count": null,
      "outputs": [
        {
          "output_type": "stream",
          "name": "stdout",
          "text": [
            "Enter the the BP of the employee: 1000\n",
            "1600.0\n"
          ]
        }
      ]
    },
    {
      "cell_type": "code",
      "metadata": {
        "colab": {
          "base_uri": "https://localhost:8080/"
        },
        "id": "pKkkp0fo9cUK",
        "outputId": "d72a7a50-b329-49f6-bc7f-f25af0d6dcfa"
      },
      "source": [
        "# Problem I\n",
        "i=0\n",
        "while(i<3):\n",
        "  year= int(input(\"Enter the year number: \"))\n",
        "  i=i+1\n",
        "\n",
        "  if(year%4==0 and year%100!=0):\n",
        "    print(\"True\")\n",
        "  elif(year%400==0):\n",
        "    print(\"True\")\n",
        "  else:\n",
        "    print(\"False\")"
      ],
      "execution_count": null,
      "outputs": [
        {
          "output_type": "stream",
          "name": "stdout",
          "text": [
            "Enter the year number: 2100\n",
            "False\n",
            "Enter the year number: 2400\n",
            "True\n",
            "Enter the year number: 1228\n",
            "True\n"
          ]
        }
      ]
    }
  ]
}