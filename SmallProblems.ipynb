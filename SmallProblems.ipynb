{
  "nbformat": 4,
  "nbformat_minor": 0,
  "metadata": {
    "colab": {
      "name": "SmallProblems",
      "provenance": [],
      "authorship_tag": "ABX9TyPuj0AZ6E9L1Yz85bK7R2p2",
      "include_colab_link": true
    },
    "kernelspec": {
      "name": "python3",
      "display_name": "Python 3"
    },
    "language_info": {
      "name": "python"
    }
  },
  "cells": [
    {
      "cell_type": "markdown",
      "metadata": {
        "id": "view-in-github",
        "colab_type": "text"
      },
      "source": [
        "<a href=\"https://colab.research.google.com/github/RajeshNaidu1/RectangleArea/blob/main/SmallProblems.ipynb\" target=\"_parent\"><img src=\"https://colab.research.google.com/assets/colab-badge.svg\" alt=\"Open In Colab\"/></a>"
      ]
    },
    {
      "cell_type": "code",
      "metadata": {
        "id": "HoM5plvYeWme",
        "colab": {
          "base_uri": "https://localhost:8080/"
        },
        "outputId": "d70e8e0c-2af6-4546-97c0-5bdf7b59e586"
      },
      "source": [
        "def strings(str):\n",
        "  if len(str)<2:\n",
        "    return ''\n",
        "  else:\n",
        "    return str[0:2] + str[-2: ]\n",
        "print(strings(\"RajeshNaidu\"))"
      ],
      "execution_count": 2,
      "outputs": [
        {
          "output_type": "stream",
          "text": [
            "Radu\n"
          ],
          "name": "stdout"
        }
      ]
    },
    {
      "cell_type": "code",
      "metadata": {
        "id": "Kt8eHbsmpGlG"
      },
      "source": [
        ""
      ],
      "execution_count": null,
      "outputs": []
    },
    {
      "cell_type": "code",
      "metadata": {
        "colab": {
          "base_uri": "https://localhost:8080/"
        },
        "id": "zLUCZFalnUxs",
        "outputId": "842b4407-4c98-4673-e379-9bf6570575a6"
      },
      "source": [
        "def strings(str):\n",
        "  if len(str)<3:\n",
        "    return \" \"\n",
        "  if 'ing' in str:\n",
        "    return str + 'ly'\n",
        "  else:\n",
        "    return str + 'ing'\n",
        "print(strings('fly'))\n",
        "print(strings('writing'))"
      ],
      "execution_count": 8,
      "outputs": [
        {
          "output_type": "stream",
          "text": [
            "flying\n",
            "writingly\n"
          ],
          "name": "stdout"
        }
      ]
    }
  ]
}