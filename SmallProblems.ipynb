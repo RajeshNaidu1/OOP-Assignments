{
  "nbformat": 4,
  "nbformat_minor": 0,
  "metadata": {
    "colab": {
      "name": "SmallProblems",
      "provenance": [],
      "authorship_tag": "ABX9TyN2E9dd2oYFpa2Q11JvZcQT",
      "include_colab_link": true
    },
    "kernelspec": {
      "name": "python3",
      "display_name": "Python 3"
    },
    "language_info": {
      "name": "python"
    }
  },
  "cells": [
    {
      "cell_type": "markdown",
      "metadata": {
        "id": "view-in-github",
        "colab_type": "text"
      },
      "source": [
        "<a href=\"https://colab.research.google.com/github/RajeshNaidu1/PythonBasics/blob/main/SmallProblems.ipynb\" target=\"_parent\"><img src=\"https://colab.research.google.com/assets/colab-badge.svg\" alt=\"Open In Colab\"/></a>"
      ]
    },
    {
      "cell_type": "code",
      "metadata": {
        "id": "HoM5plvYeWme",
        "colab": {
          "base_uri": "https://localhost:8080/"
        },
        "outputId": "38683f47-d2cc-40a8-954c-8527a433c2fe"
      },
      "source": [
        "# Printing First 2 and Last 2 characters \n",
        "\n",
        "def strings(str):\n",
        "  if len(str)<2:\n",
        "    return ''\n",
        "  else:\n",
        "    return str[0:2] + str[-2: ]\n",
        "print(strings(\"RajeshNaidu\"))"
      ],
      "execution_count": 12,
      "outputs": [
        {
          "output_type": "stream",
          "text": [
            "Radu\n"
          ],
          "name": "stdout"
        }
      ]
    },
    {
      "cell_type": "code",
      "metadata": {
        "colab": {
          "base_uri": "https://localhost:8080/"
        },
        "id": "zLUCZFalnUxs",
        "outputId": "842b4407-4c98-4673-e379-9bf6570575a6"
      },
      "source": [
        "# Adding 'ing' to string or adding 'ly' to existing 'ing' string\n",
        "def strings(str):\n",
        "  if len(str)<3:\n",
        "    return \" \"\n",
        "  if 'ing' in str:\n",
        "    return str + 'ly'\n",
        "  else:\n",
        "    return str + 'ing'\n",
        "print(strings('fly'))\n",
        "print(strings('writing'))"
      ],
      "execution_count": 8,
      "outputs": [
        {
          "output_type": "stream",
          "text": [
            "flying\n",
            "writingly\n"
          ],
          "name": "stdout"
        }
      ]
    },
    {
      "cell_type": "code",
      "metadata": {
        "colab": {
          "base_uri": "https://localhost:8080/"
        },
        "id": "8vgfR-EFuHLz",
        "outputId": "1a2fbc31-e971-48d5-a7b7-c4b3f7272ea1"
      },
      "source": [
        "# Removing the nth index from the string\n",
        "def remove(str,n):\n",
        "  first= str[ :n]\n",
        "  last= str[n+1: ]\n",
        "  return first+ last\n",
        "print(remove('Rajesh',2))"
      ],
      "execution_count": 13,
      "outputs": [
        {
          "output_type": "stream",
          "text": [
            "Raesh\n"
          ],
          "name": "stdout"
        }
      ]
    }
  ]
}