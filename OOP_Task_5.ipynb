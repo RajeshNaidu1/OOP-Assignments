{
  "nbformat": 4,
  "nbformat_minor": 0,
  "metadata": {
    "colab": {
      "name": "OOP-Task-5.ipynb",
      "provenance": [],
      "authorship_tag": "ABX9TyO50haE6WATovPPQefm1dj8",
      "include_colab_link": true
    },
    "kernelspec": {
      "name": "python3",
      "display_name": "Python 3"
    },
    "language_info": {
      "name": "python"
    }
  },
  "cells": [
    {
      "cell_type": "markdown",
      "metadata": {
        "id": "view-in-github",
        "colab_type": "text"
      },
      "source": [
        "<a href=\"https://colab.research.google.com/github/RajeshNaidu1/OOP-Assignments/blob/main/OOP_Task_5.ipynb\" target=\"_parent\"><img src=\"https://colab.research.google.com/assets/colab-badge.svg\" alt=\"Open In Colab\"/></a>"
      ]
    },
    {
      "cell_type": "code",
      "metadata": {
        "colab": {
          "base_uri": "https://localhost:8080/"
        },
        "id": "PFYEj6T5eoUC",
        "outputId": "612e30c1-3041-4766-bb90-ee7b0cdb40a1"
      },
      "source": [
        "class Shape:\n",
        "    def area(self):\n",
        "        print(\"Area Covered\")\n",
        "class Circle(Shape):\n",
        "    def __init__(self,radius):\n",
        "        self.radius = radius\n",
        "    def area(self):\n",
        "        area = (22/7)*self.radius*self.radius\n",
        "        print(area)\n",
        "class Rectangle(Shape):\n",
        "    def __init__(self,length,width):\n",
        "        self.length = length\n",
        "        self.width = width\n",
        "    def area(self):\n",
        "        area = self.length*self.width\n",
        "        print(area)\n",
        "class Square(Shape):\n",
        "    def __init__(self,side):\n",
        "        self.side = side\n",
        "    def area(self):\n",
        "        area = self.side*self.side\n",
        "        print(area)\n",
        "a1 = Shape()\n",
        "a1.area()\n",
        "a2 = Circle(4)\n",
        "a2.area()\n",
        "a3 = Square(7)\n",
        "a3.area()\n",
        "a4 = Rectangle(2,3)\n",
        "a4.area()"
      ],
      "execution_count": 2,
      "outputs": [
        {
          "output_type": "stream",
          "name": "stdout",
          "text": [
            "Area Covered\n",
            "50.285714285714285\n",
            "49\n",
            "6\n"
          ]
        }
      ]
    },
    {
      "cell_type": "code",
      "metadata": {
        "colab": {
          "base_uri": "https://localhost:8080/"
        },
        "id": "cXUfMlv7ezXT",
        "outputId": "2e0e73a4-7299-410c-84a1-e91bb468d8b8"
      },
      "source": [
        "class Travel:\n",
        "    def passengers(self):\n",
        "        self.passengers = 3\n",
        "        print(self.passengers)\n",
        "    def distance(self):\n",
        "        self.distance = 10\n",
        "        print(self.distance)\n",
        "    def transport(self):\n",
        "        self.transport = 'bus'\n",
        "        print(self.transport)\n",
        "class Train(Travel):\n",
        "    def transport(self):\n",
        "        self.transport = 'train'\n",
        "        print(self.transport)\n",
        "    def cost(self):\n",
        "        self.cost = self.passengers*60\n",
        "        print(self.cost)\n",
        "class Bus(Travel):\n",
        "    def transport(self):\n",
        "        self.transport = 'bus'\n",
        "        print(self.transport)\n",
        "    def cost(self):\n",
        "        self.cost = self.passengers*100\n",
        "        print(self.cost)\n",
        "a1 = Travel()\n",
        "a1.passengers()\n",
        "a1.distance()\n",
        "a1.transport()\n",
        "a2 = Train()\n",
        "a2.passengers()\n",
        "a2.distance()\n",
        "a2.transport()\n",
        "a2.cost()\n",
        "a3 = Bus()\n",
        "a3.passengers()\n",
        "a3.distance()\n",
        "a3.transport()\n",
        "a3.cost()"
      ],
      "execution_count": 3,
      "outputs": [
        {
          "output_type": "stream",
          "name": "stdout",
          "text": [
            "3\n",
            "10\n",
            "bus\n",
            "3\n",
            "10\n",
            "train\n",
            "180\n",
            "3\n",
            "10\n",
            "bus\n",
            "300\n"
          ]
        }
      ]
    },
    {
      "cell_type": "code",
      "metadata": {
        "colab": {
          "base_uri": "https://localhost:8080/"
        },
        "id": "_yGYD9Aue42y",
        "outputId": "f5446c18-e6f5-4a71-b857-9a5ca16ff091"
      },
      "source": [
        "class Car:\n",
        "    def __init__(self,model):\n",
        "        self.model = model\n",
        "c1=Car(1234)\n",
        "c2=Car(5678)\n",
        "temp = c1.model\n",
        "c1.model = c2.model\n",
        "c2.model = temp\n",
        "print(c1.model)\n",
        "print(c2.model)"
      ],
      "execution_count": 4,
      "outputs": [
        {
          "output_type": "stream",
          "name": "stdout",
          "text": [
            "5678\n",
            "1234\n"
          ]
        }
      ]
    }
  ]
}